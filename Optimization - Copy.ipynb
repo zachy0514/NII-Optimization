{
 "cells": [
  {
   "cell_type": "code",
   "execution_count": 1,
   "metadata": {},
   "outputs": [],
   "source": [
    "import pandas as pd\n",
    "import numpy as np\n",
    "from scipy.optimize import minimize"
   ]
  },
  {
   "cell_type": "code",
   "execution_count": 2,
   "metadata": {},
   "outputs": [],
   "source": [
    "data = pd.read_excel(r\"C:\\Users\\zachy\\Desktop\\Gilberto\\Book2.xlsx\", index_col=0)\n",
    "data = data.fillna(0)  # Read data, fill nan value"
   ]
  },
  {
   "cell_type": "markdown",
   "metadata": {},
   "source": [
    "#### cov is the covariance matrix"
   ]
  },
  {
   "cell_type": "code",
   "execution_count": 3,
   "metadata": {},
   "outputs": [],
   "source": [
    "cov = pd.read_excel(r\"C:\\Users\\zachy\\Desktop\\Gilberto\\Cov_matrix.xlsx\", index_col=0)\n",
    "\n",
    "for i in range(cov.shape[0]):\n",
    "    cov.iloc[i,:] = cov.iloc[:,i]"
   ]
  },
  {
   "cell_type": "markdown",
   "metadata": {},
   "source": [
    "#### define all the parameters"
   ]
  },
  {
   "cell_type": "code",
   "execution_count": 4,
   "metadata": {},
   "outputs": [],
   "source": [
    "RSF = np.array([0.5, 0.65, 0, 0.15])\n",
    "HQLA = np.array([0.25, 0.25, 1, 0.15])\n",
    "RWA = np.array([1, 0.35, 0, 0.20])\n",
    "ASF = np.array([0.5, 0.9, 0.95, 1, 1])\n",
    "\n",
    "T = 360  # time period\n",
    "DRE = 0.18\n",
    "Eta = 0.63\n",
    "Total_Bal = 1500000\n",
    "NSFR_ratio = 1.1\n",
    "LCR_ratio = 1.2\n",
    "TLAC_ratio = 0.18\n",
    "\n",
    "Haircut = 0.02\n",
    "borrow_rate = 0.0017  #daily"
   ]
  },
  {
   "cell_type": "code",
   "execution_count": 5,
   "metadata": {},
   "outputs": [],
   "source": [
    "a1_rate = data['a1 rate'].values\n",
    "a2_rate = data['a2 rate'].values\n",
    "a3_rate = data['a3 rate'].values\n",
    "a4_rate = data['a4 rate'].values\n",
    "l1_rate = data['l1 rate'].values\n",
    "l2_rate = data['l2 rate'].values\n",
    "l3_rate = data['l3 rate'].values\n",
    "l4_rate = data['l4 rate'].values\n",
    "l5_rate = data['l5 rate'].values"
   ]
  },
  {
   "cell_type": "markdown",
   "metadata": {},
   "source": [
    "####  Our objective is to minimize the function \n",
    "\n",
    "#### $\\sqrt[]{x^T\\Sigma x}-x^T\\mu$ \n",
    "\n",
    "#### where $\\Sigma$ is the covariance matrix, $\\mu$ is the returns and $x$ is the weight vector"
   ]
  },
  {
   "cell_type": "code",
   "execution_count": 6,
   "metadata": {},
   "outputs": [],
   "source": [
    "def obj_mean_var(x):  # Defn Objective function\n",
    "    \n",
    "    returns = pd.DataFrame({'A1':a1_rate,'A2':a2_rate,'A3':a3_rate/360,'A4':a4_rate,'L1':-l1_rate/360,\n",
    "                       'L2':-l2_rate/360,'L3':-l3_rate/360,'L4':-l4_rate,'L5':-l5_rate})\n",
    "    cov_matrix = returns.cov()\n",
    "    \n",
    "    return np.sqrt(x.T@(cov/np.sqrt(360))@x) - np.sum(returns.sum()*x)"
   ]
  },
  {
   "cell_type": "markdown",
   "metadata": {},
   "source": [
    "#### this function is used to check our final CFs which is basically\n",
    "\n",
    "$x^T\\mu$"
   ]
  },
  {
   "cell_type": "code",
   "execution_count": 7,
   "metadata": {},
   "outputs": [],
   "source": [
    "def CFs(x):  # Defn Objective function\n",
    "\n",
    "    returns = pd.DataFrame({'A1':a1_rate,'A2':a2_rate,'A3':a3_rate/360,'A4':a4_rate,'L1':-l1_rate/360,\n",
    "                       'L2':-l2_rate/360,'L3':-l3_rate/360,'L4':-l4_rate,'L5':-l5_rate})\n",
    "    cov_matrix = returns.cov()\n",
    "    \n",
    "    return - np.sum(returns.sum()*x)"
   ]
  },
  {
   "cell_type": "markdown",
   "metadata": {},
   "source": [
    "#### below are the constraints\n",
    "\n",
    "* constraints 1&2 is to define the total balance\n",
    "* cons 3 : $NSFR >= 110\\%$\n",
    "* cons 4 : $\\frac{TLAC}{RWA} >= 18\\%$\n",
    "* cons 5 : $LCR >= 120\\%$\n",
    "* cons 6 : get minimum amount of x4 to cover the extreme loss in CFs\n",
    "* cons 7 : $x_3 >= 10\\%$ of total balance\n",
    "* cons 8 : $x_5+x_6+x_7 <= 60\\%$ of total balance\n",
    "* cons 9 : $x_6+x_7 = \\eta*(x_5+x_6+x_7)$\n",
    "* cons 10 : $x_6 = DRE*(x_6+x_7)$\n",
    "* cons 11 : make sure all cashflows are positive which is not used in the case of allowing repo"
   ]
  },
  {
   "cell_type": "code",
   "execution_count": 8,
   "metadata": {},
   "outputs": [],
   "source": [
    "def cons1(x):  # Constraints: Eq.(25) sum of the balance is 1550\n",
    "    return x[0]+x[1]+x[2]+x[3]-Total_Bal\n",
    "\n",
    "def cons2(x):\n",
    "    return x[4]+x[5]+x[6]+x[7]+x[8]-Total_Bal\n",
    "\n",
    "def cons3(x): # Eq.(21) NSFR >= 110%\n",
    "    return sum(ASF*x[4:])/sum(RSF*x[:4]) - NSFR_ratio\n",
    "\n",
    "def cons4(x): # Eq.(23) TLAC/RWA >= 18%\n",
    "    return x[7]/sum(RWA*x[:4]) - TLAC_ratio\n",
    "\n",
    "def cons5(x): # Eq.(22) LCR >= 120%\n",
    "    \n",
    "    x_cf1 = a1_rate*x[0]\n",
    "    x_cf2 = a2_rate*x[1]\n",
    "    x_cf3 = a3_rate*x[2]/360\n",
    "    x_cf4 = a4_rate*x[3] \n",
    "    xa_cf = x_cf1 + x_cf2 + x_cf3 + x_cf4\n",
    "    \n",
    "    x_cf5 = (l1_rate*x[4])/360\n",
    "    x_cf6 = (l2_rate*x[5])/360\n",
    "    x_cf7 = (l3_rate*x[6])/360\n",
    "    x_cf8 = (l4_rate*x[7])\n",
    "    x_cf9 = (l5_rate*x[8])\n",
    "    \n",
    "    xl_cf = x_cf5 + x_cf6 + x_cf7 + x_cf8 + x_cf9\n",
    "    \n",
    "    xnet_cf = xa_cf - xl_cf\n",
    "    \n",
    "    HQLA_v = sum(HQLA * x[:4])\n",
    "\n",
    "    TNCO = np.array([])\n",
    "\n",
    "    for t in range(T):\n",
    "        if t <= T-30:\n",
    "            value = x[4] + x[5]*1/12 + x[6]*1/30 + sum(xnet_cf[t:t+30])\n",
    "        else:\n",
    "            value = x[4] + x[5]*1/12 + x[6]*1/30 + sum(xnet_cf[t:])\n",
    "        TNCO = np.append(TNCO,value)\n",
    "        \n",
    "    return HQLA_v/TNCO - LCR_ratio\n",
    "\n",
    "def cons6(x):  # Eq.(27) X4 to cover the loss\n",
    "                      \n",
    "    x_cf1 = a1_rate*x[0]\n",
    "    x_cf2 = a2_rate*x[1]\n",
    "    x_cf3 = a3_rate*x[2]/360\n",
    "    x_cf4 = a4_rate*x[3] \n",
    "                      \n",
    "    xa_cf = x_cf1 + x_cf2 + x_cf3 + x_cf4\n",
    "    \n",
    "    x_cf5 = (l1_rate*x[4])/360\n",
    "    x_cf6 = (l2_rate*x[5])/360\n",
    "    x_cf7 = (l3_rate*x[6])/360\n",
    "    x_cf8 = (l4_rate*x[7])\n",
    "    x_cf9 = (l5_rate*x[8])\n",
    "    xl_cf = x_cf5 + x_cf6 + x_cf7 + x_cf8 + x_cf9\n",
    "    \n",
    "    xnet_cf = xa_cf - xl_cf\n",
    "    xcum_cf = xnet_cf.cumsum()\n",
    "    \n",
    "    return x[3]*(1-Haircut)*(1-borrow_rate) + xcum_cf\n",
    "\n",
    "def cons7(x): # Eq.(28)\n",
    "    return x[2]-0.1*sum(x[:4])\n",
    "\n",
    "def cons8(x): \n",
    "    return 0.6*Total_Bal - (x[4]+x[5]+x[6]) \n",
    "\n",
    "def cons9(x): \n",
    "    return x[5]+x[6] - Eta*(x[4]+x[5]+x[6])\n",
    "\n",
    "def cons10(x):\n",
    "    return x[5] - DRE*(x[5]+x[6])\n",
    "\n",
    "def cons11(x):  # Eq.(27) Inflow > Outflow\n",
    "                      \n",
    "    x_cf1 = a1_rate*x[0]\n",
    "    x_cf2 = a2_rate*x[1]\n",
    "    x_cf3 = a3_rate*x[2]/360\n",
    "    x_cf4 = a4_rate*x[3] \n",
    "                      \n",
    "    xa_cf = x_cf1 + x_cf2 + x_cf3 + x_cf4\n",
    "    \n",
    "    x_cf5 = (l1_rate*x[4])/360\n",
    "    x_cf6 = (l2_rate*x[5])/360\n",
    "    x_cf7 = (l3_rate*x[6])/360\n",
    "    x_cf8 = (l4_rate*x[7])\n",
    "    x_cf9 = (l5_rate*x[8])\n",
    "    xl_cf = x_cf5 + x_cf6 + x_cf7 + x_cf8 + x_cf9\n",
    "    \n",
    "    xnet_cf = xa_cf - xl_cf\n",
    "    xcum_cf = xnet_cf.cumsum()\n",
    "    \n",
    "    return xcum_cf"
   ]
  },
  {
   "cell_type": "markdown",
   "metadata": {},
   "source": [
    "#### define boundries of each $x_i$ as well as constraints\n",
    "* 'eq': equation\n",
    "* 'ineq': greater than or equal to zero"
   ]
  },
  {
   "cell_type": "code",
   "execution_count": 9,
   "metadata": {},
   "outputs": [],
   "source": [
    "b = (0,Total_Bal) # Define bounds\n",
    "bnds = (b, b, b, b, b, b, b, b, b)\n",
    "\n",
    "con1 = {'type': 'eq', 'fun': cons1}\n",
    "con2 = {'type': 'eq', 'fun': cons2}\n",
    "con3 = {'type': 'ineq', 'fun': cons3}\n",
    "con4 = {'type': 'ineq', 'fun': cons4}\n",
    "con5 = {'type': 'ineq', 'fun': cons5}\n",
    "con6 = {'type': 'ineq', 'fun': cons6}\n",
    "con7 = {'type': 'ineq', 'fun': cons7}\n",
    "con8 = {'type': 'ineq', 'fun': cons8}\n",
    "con9 = {'type': 'eq', 'fun': cons9}\n",
    "con10 = {'type': 'eq', 'fun': cons10}\n",
    "\n",
    "cons = ([con1,con2,con3,con4,con5,con6,con7,con8,con9,con10])\n",
    "#cons = ([con1,con2,con3,con4,con5,con6,con7,con8,con9,con10])"
   ]
  },
  {
   "cell_type": "code",
   "execution_count": 10,
   "metadata": {},
   "outputs": [],
   "source": [
    "x = np.array([375000,375000,375000,375000,300000,300000,300000,300000,300000])"
   ]
  },
  {
   "cell_type": "markdown",
   "metadata": {},
   "source": [
    "##### optimization function, run this multiple times untile it converges"
   ]
  },
  {
   "cell_type": "code",
   "execution_count": 15,
   "metadata": {},
   "outputs": [],
   "source": [
    "solution = minimize(obj_mean_var,x,bounds=bnds,constraints=cons,method='SLSQP')\n",
    "\n",
    "x = solution.x"
   ]
  },
  {
   "cell_type": "markdown",
   "metadata": {},
   "source": [
    "#### create the repo table including columns:\n",
    "* NCNC : all the possible negative cashflows\n",
    "* Repo Amt : Amount needed to repo, shift NCNC oneday ago plus the haircut\n",
    "* Interest : interests generated from repo"
   ]
  },
  {
   "cell_type": "code",
   "execution_count": 16,
   "metadata": {},
   "outputs": [],
   "source": [
    "neg_cfs = cons11(x)[cons11(x)<0]\n",
    "\n",
    "repo_df = pd.DataFrame(index=np.array(['t'+'{}'.format(i) for i in range(len(neg_cfs)+1)])) # create repo table\n",
    "repo_df['NCNC'] = [0]+cons11(x)[cons11(x)<0].tolist()\n",
    "repo_df['Repo Amt'] = (repo_df['NCNC']/(1-Haircut)).shift(-1)\n",
    "repo_df['Interest'] = repo_df['Repo Amt'] * borrow_rate"
   ]
  },
  {
   "cell_type": "markdown",
   "metadata": {},
   "source": [
    "#### Final results"
   ]
  },
  {
   "cell_type": "code",
   "execution_count": 17,
   "metadata": {
    "scrolled": true
   },
   "outputs": [
    {
     "name": "stdout",
     "output_type": "stream",
     "text": [
      "Weights: [5.5912606e+05 7.9013406e+05 1.5000000e+05 7.3988000e+02 3.3300000e+05\n",
      " 1.0206000e+05 4.6494000e+05 1.5044777e+05 4.4955223e+05]\n",
      "PnL without repo: 33858.87216961898\n",
      "Final PnL: 33802.625385411906\n",
      "Obj mean-variance: -11372.008006994842\n"
     ]
    }
   ],
   "source": [
    "print('Weights:', np.round(x,2))\n",
    "print('PnL without repo:',-CFs(x))\n",
    "print('Final PnL:',-CFs(x) + repo_df['Interest'].sum())\n",
    "print('Obj mean-variance:',obj_mean_var(x))"
   ]
  },
  {
   "cell_type": "code",
   "execution_count": 18,
   "metadata": {},
   "outputs": [
    {
     "data": {
      "text/html": [
       "<div>\n",
       "<style scoped>\n",
       "    .dataframe tbody tr th:only-of-type {\n",
       "        vertical-align: middle;\n",
       "    }\n",
       "\n",
       "    .dataframe tbody tr th {\n",
       "        vertical-align: top;\n",
       "    }\n",
       "\n",
       "    .dataframe thead th {\n",
       "        text-align: right;\n",
       "    }\n",
       "</style>\n",
       "<table border=\"1\" class=\"dataframe\">\n",
       "  <thead>\n",
       "    <tr style=\"text-align: right;\">\n",
       "      <th></th>\n",
       "      <th>NCNC</th>\n",
       "      <th>Repo Amt</th>\n",
       "      <th>Interest</th>\n",
       "    </tr>\n",
       "  </thead>\n",
       "  <tbody>\n",
       "    <tr>\n",
       "      <th>t0</th>\n",
       "      <td>0.000000</td>\n",
       "      <td>-9.255387</td>\n",
       "      <td>-0.015734</td>\n",
       "    </tr>\n",
       "    <tr>\n",
       "      <th>t1</th>\n",
       "      <td>-9.070279</td>\n",
       "      <td>-18.510774</td>\n",
       "      <td>-0.031468</td>\n",
       "    </tr>\n",
       "    <tr>\n",
       "      <th>t2</th>\n",
       "      <td>-18.140558</td>\n",
       "      <td>-27.766161</td>\n",
       "      <td>-0.047202</td>\n",
       "    </tr>\n",
       "    <tr>\n",
       "      <th>t3</th>\n",
       "      <td>-27.210838</td>\n",
       "      <td>-37.021548</td>\n",
       "      <td>-0.062937</td>\n",
       "    </tr>\n",
       "    <tr>\n",
       "      <th>t4</th>\n",
       "      <td>-36.281117</td>\n",
       "      <td>-46.147270</td>\n",
       "      <td>-0.078450</td>\n",
       "    </tr>\n",
       "    <tr>\n",
       "      <th>...</th>\n",
       "      <td>...</td>\n",
       "      <td>...</td>\n",
       "      <td>...</td>\n",
       "    </tr>\n",
       "    <tr>\n",
       "      <th>t85</th>\n",
       "      <td>-690.201476</td>\n",
       "      <td>-712.860840</td>\n",
       "      <td>-1.211863</td>\n",
       "    </tr>\n",
       "    <tr>\n",
       "      <th>t86</th>\n",
       "      <td>-698.603623</td>\n",
       "      <td>-721.441159</td>\n",
       "      <td>-1.226450</td>\n",
       "    </tr>\n",
       "    <tr>\n",
       "      <th>t87</th>\n",
       "      <td>-707.012336</td>\n",
       "      <td>-730.028178</td>\n",
       "      <td>-1.241048</td>\n",
       "    </tr>\n",
       "    <tr>\n",
       "      <th>t88</th>\n",
       "      <td>-715.427614</td>\n",
       "      <td>-738.621897</td>\n",
       "      <td>-1.255657</td>\n",
       "    </tr>\n",
       "    <tr>\n",
       "      <th>t89</th>\n",
       "      <td>-723.849459</td>\n",
       "      <td>NaN</td>\n",
       "      <td>NaN</td>\n",
       "    </tr>\n",
       "  </tbody>\n",
       "</table>\n",
       "<p>90 rows × 3 columns</p>\n",
       "</div>"
      ],
      "text/plain": [
       "           NCNC    Repo Amt  Interest\n",
       "t0     0.000000   -9.255387 -0.015734\n",
       "t1    -9.070279  -18.510774 -0.031468\n",
       "t2   -18.140558  -27.766161 -0.047202\n",
       "t3   -27.210838  -37.021548 -0.062937\n",
       "t4   -36.281117  -46.147270 -0.078450\n",
       "..          ...         ...       ...\n",
       "t85 -690.201476 -712.860840 -1.211863\n",
       "t86 -698.603623 -721.441159 -1.226450\n",
       "t87 -707.012336 -730.028178 -1.241048\n",
       "t88 -715.427614 -738.621897 -1.255657\n",
       "t89 -723.849459         NaN       NaN\n",
       "\n",
       "[90 rows x 3 columns]"
      ]
     },
     "execution_count": 18,
     "metadata": {},
     "output_type": "execute_result"
    }
   ],
   "source": [
    "repo_df"
   ]
  }
 ],
 "metadata": {
  "kernelspec": {
   "display_name": "Python 3",
   "language": "python",
   "name": "python3"
  },
  "language_info": {
   "codemirror_mode": {
    "name": "ipython",
    "version": 3
   },
   "file_extension": ".py",
   "mimetype": "text/x-python",
   "name": "python",
   "nbconvert_exporter": "python",
   "pygments_lexer": "ipython3",
   "version": "3.6.5"
  }
 },
 "nbformat": 4,
 "nbformat_minor": 2
}
